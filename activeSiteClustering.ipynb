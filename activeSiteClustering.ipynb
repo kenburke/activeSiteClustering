{
 "cells": [
  {
   "cell_type": "code",
   "execution_count": 1,
   "metadata": {
    "collapsed": true
   },
   "outputs": [],
   "source": [
    "import os\n",
    "os.chdir('/Users/ken/Desktop/repos/activeSiteClustering')\n",
    "from clustering import cluster, similarity, io, utils\n",
    "import numpy as np\n",
    "import sys\n",
    "from random import seed, random\n",
    "from math import floor\n",
    "import matplotlib.pyplot as plt\n",
    "%matplotlib inline"
   ]
  },
  {
   "cell_type": "code",
   "execution_count": 2,
   "metadata": {
    "collapsed": false
   },
   "outputs": [
    {
     "name": "stdout",
     "output_type": "stream",
     "text": [
      "Read in 136 active sites\n",
      "\n",
      "----------------\n",
      "This value will be between 0 and 1:\n",
      "\tSimilarity (random): 0.154078671845\n",
      "\n",
      "This value will be 1:\n",
      "\tSimilarity A <-> A: 1.0\n",
      "\n",
      "These values will be the same:\n",
      "\tSimilarity A -> B: 0.154078671845\n",
      "\tSimilarity B -> A: 0.154078671845\n"
     ]
    }
   ],
   "source": [
    "# similarity metric:\n",
    "# 9-dimensional vector of basic chemical and morphological features\n",
    "# Hand-tuned examples showed it can separate different sizes and charge distributions\n",
    "# Can easily incorporate more variables in the future (e.g. charge variance)\n",
    "# Comparison takes Euclidean distance between two vectors\n",
    "\n",
    "activeSites = io.read_active_sites('data')\n",
    "\n",
    "seed()\n",
    "rand1 = int(floor(random()*len(activeSites)))\n",
    "rand2 = int(floor(random()*len(activeSites)))\n",
    "\n",
    "#Range\n",
    "print('\\n----------------')\n",
    "print('This value will be between 0 and 1:')\n",
    "print('\\tSimilarity (random):',similarity.compute_similarity(activeSites[rand1],\n",
    "                                                    activeSites[rand2]))\n",
    "\n",
    "#Reflexive\n",
    "print('\\nThis value will be 1:')\n",
    "print('\\tSimilarity A <-> A:',similarity.compute_similarity(activeSites[rand1],\n",
    "                                                    activeSites[rand1]))\n",
    "\n",
    "#Symmetric\n",
    "print('\\nThese values will be the same:')\n",
    "print('\\tSimilarity A -> B:',similarity.compute_similarity(activeSites[rand1],\n",
    "                                                    activeSites[rand2]))\n",
    "print('\\tSimilarity B -> A:',similarity.compute_similarity(activeSites[rand2],\n",
    "                                                    activeSites[rand1]))"
   ]
  },
  {
   "cell_type": "code",
   "execution_count": 3,
   "metadata": {
    "collapsed": false
   },
   "outputs": [
    {
     "name": "stdout",
     "output_type": "stream",
     "text": [
      "clustering by partition\n",
      "done\n",
      "-----------------------\n",
      "clustering by hierarchy\n",
      "Number of Clusters: 130\n",
      "Number of Clusters: 120\n",
      "Number of Clusters: 110\n",
      "Number of Clusters: 100\n",
      "Number of Clusters: 90\n",
      "Number of Clusters: 80\n",
      "Number of Clusters: 70\n",
      "Number of Clusters: 60\n",
      "Number of Clusters: 50\n",
      "Number of Clusters: 40\n",
      "Number of Clusters: 30\n",
      "Number of Clusters: 20\n",
      "Number of Clusters: 10\n",
      "done\n"
     ]
    }
   ],
   "source": [
    "# partitioning algorithm:\n",
    "# Implemented K-Means\n",
    "# Reason: straightforward, well-documented and known to converge\n",
    "# downside: non-deterministic. testing required many runs of func to catch small bugs.\n",
    "\n",
    "# hierarchical algorithm:\n",
    "# agglomerative with centroid linkage\n",
    "# Reason: similar to above... simple linkage calculation, intuitive implementation.\n",
    "# downside: super slow compared to k-means. but being deterministic helped with debugging.\n",
    "\n",
    "print('clustering by partition')\n",
    "p_clust = cluster.cluster_by_partitioning(activeSites,num_clusters=7)\n",
    "print('done')\n",
    "print('-----------------------')\n",
    "print('clustering by hierarchy')\n",
    "h_clust = cluster.cluster_hierarchically(activeSites,num_clusters=7)\n",
    "print('done')"
   ]
  },
  {
   "cell_type": "code",
   "execution_count": 4,
   "metadata": {
    "collapsed": false
   },
   "outputs": [
    {
     "name": "stdout",
     "output_type": "stream",
     "text": [
      "\n",
      "\n",
      "--------- 3 -----------\n",
      "-----------------------\n",
      "clustering by partition\n",
      "done\n",
      "-----------------------\n",
      "clustering by hierarchy\n",
      "Number of Clusters: 130\n",
      "Number of Clusters: 120\n",
      "Number of Clusters: 110\n",
      "Number of Clusters: 100\n",
      "Number of Clusters: 90\n",
      "Number of Clusters: 80\n",
      "Number of Clusters: 70\n",
      "Number of Clusters: 60\n",
      "Number of Clusters: 50\n",
      "Number of Clusters: 40\n",
      "Number of Clusters: 30\n",
      "Number of Clusters: 20\n",
      "Number of Clusters: 10\n",
      "done\n",
      "\n",
      "\n",
      "--------- 5 -----------\n",
      "-----------------------\n",
      "clustering by partition\n",
      "done\n",
      "-----------------------\n",
      "clustering by hierarchy\n",
      "Number of Clusters: 130\n",
      "Number of Clusters: 120\n",
      "Number of Clusters: 110\n",
      "Number of Clusters: 100\n",
      "Number of Clusters: 90\n",
      "Number of Clusters: 80\n",
      "Number of Clusters: 70\n",
      "Number of Clusters: 60\n",
      "Number of Clusters: 50\n",
      "Number of Clusters: 40\n",
      "Number of Clusters: 30\n",
      "Number of Clusters: 20\n",
      "Number of Clusters: 10\n",
      "done\n",
      "\n",
      "\n",
      "--------- 7 -----------\n",
      "-----------------------\n",
      "clustering by partition\n",
      "done\n",
      "-----------------------\n",
      "clustering by hierarchy\n",
      "Number of Clusters: 130\n",
      "Number of Clusters: 120\n",
      "Number of Clusters: 110\n",
      "Number of Clusters: 100\n",
      "Number of Clusters: 90\n",
      "Number of Clusters: 80\n",
      "Number of Clusters: 70\n",
      "Number of Clusters: 60\n",
      "Number of Clusters: 50\n",
      "Number of Clusters: 40\n",
      "Number of Clusters: 30\n",
      "Number of Clusters: 20\n",
      "Number of Clusters: 10\n",
      "done\n",
      "\n",
      "\n",
      "--------- 10 -----------\n",
      "-----------------------\n",
      "clustering by partition\n",
      "done\n",
      "-----------------------\n",
      "clustering by hierarchy\n",
      "Number of Clusters: 130\n",
      "Number of Clusters: 120\n",
      "Number of Clusters: 110\n",
      "Number of Clusters: 100\n",
      "Number of Clusters: 90\n",
      "Number of Clusters: 80\n",
      "Number of Clusters: 70\n",
      "Number of Clusters: 60\n",
      "Number of Clusters: 50\n",
      "Number of Clusters: 40\n",
      "Number of Clusters: 30\n",
      "Number of Clusters: 20\n",
      "Number of Clusters: 10\n",
      "done\n",
      "\n",
      "\n",
      "--------- 15 -----------\n",
      "-----------------------\n",
      "clustering by partition\n",
      "done\n",
      "-----------------------\n",
      "clustering by hierarchy\n",
      "Number of Clusters: 130\n",
      "Number of Clusters: 120\n",
      "Number of Clusters: 110\n",
      "Number of Clusters: 100\n",
      "Number of Clusters: 90\n",
      "Number of Clusters: 80\n",
      "Number of Clusters: 70\n",
      "Number of Clusters: 60\n",
      "Number of Clusters: 50\n",
      "Number of Clusters: 40\n",
      "Number of Clusters: 30\n",
      "Number of Clusters: 20\n",
      "done\n"
     ]
    }
   ],
   "source": [
    "# quality metric:\n",
    "# Used average inter-object distance among clusters in clustering (low=good).\n",
    "# Slight variation on what was presented in class, averaging pairwise distances\n",
    "#    *within* clusters before averaging these cluster averages. This prevented\n",
    "#    skewing by large clusters (common in hierarchical with my data here)\n",
    "# To compare two clusterings together, I took the log ratio of the two\n",
    "\n",
    "p_qual = []\n",
    "h_qual = []\n",
    "ratio = []\n",
    "\n",
    "num_clusters = [3,5,7,10,15]\n",
    "\n",
    "for num in num_clusters:\n",
    "    print('\\n')\n",
    "    print('---------',num,'-----------')\n",
    "    print('-----------------------')\n",
    "\n",
    "    print('clustering by partition')\n",
    "    p_clust = cluster.cluster_by_partitioning(activeSites,num_clusters=num)\n",
    "    p_qual.append(cluster.quality(p_clust))\n",
    "    \n",
    "    print('done')\n",
    "    print('-----------------------')\n",
    "    print('clustering by hierarchy')\n",
    "\n",
    "    h_clust = cluster.cluster_hierarchically(activeSites,num_clusters=num)\n",
    "    h_qual.append(cluster.quality(h_clust))\n",
    "    print('done')\n",
    "    \n",
    "    ratio.append(cluster.compare(p_clust,h_clust))"
   ]
  },
  {
   "cell_type": "code",
   "execution_count": 5,
   "metadata": {
    "collapsed": false
   },
   "outputs": [
    {
     "data": {
      "text/plain": [
       "[1, 20, -1, 1]"
      ]
     },
     "execution_count": 5,
     "metadata": {},
     "output_type": "execute_result"
    },
    {
     "data": {
      "image/png": "[encoded data removed]",
      "text/plain": [
       "<matplotlib.figure.Figure at 0x105e63390>"
      ]
     },
     "metadata": {},
     "output_type": "display_data"
    },
    {
     "data": {
      "image/png": "[encoded data removed]",
      "text/plain": [
       "<matplotlib.figure.Figure at 0x106738eb8>"
      ]
     },
     "metadata": {},
     "output_type": "display_data"
    }
   ],
   "source": [
    "fig1 = plt.figure()\n",
    "fig1.suptitle('Qualities\\nPartition (red) vs Hierarchical (blue)')\n",
    "plt.plot(num_clusters,p_qual,color=\"r\",marker='o')\n",
    "plt.plot(num_clusters,h_qual,color=\"b\",marker='o')\n",
    "plt.axis([1,20,0,5])\n",
    "\n",
    "fig2 = plt.figure()\n",
    "fig2.suptitle('Qualities (Log-Ratio)\\nPositive = Hierarchical is Better')\n",
    "plt.plot(num_clusters,ratio,color=\"k\",marker='o')\n",
    "plt.plot([0,21],[0,0],marker='_')\n",
    "plt.axis([1,20,-1,1])"
   ]
  },
  {
   "cell_type": "markdown",
   "metadata": {},
   "source": [
    "I'm unsure if my clusters had biological meaning. The fact that the hierarchical clustering consistently had more skewed distributions of cluster sizes whereas the k-means did not makes me skeptical. Of course, this is also compounded by not knowing if the 9 somewhat arbitrary parameters I chose actually translate to functionality (e.g. ligand specificity).\n",
    "\n",
    "In all, I think the general algorithms employed here could be useful, but would require more detailed input data upon which to cluster the sites."
   ]
  },
  {
   "cell_type": "code",
   "execution_count": null,
   "metadata": {
    "collapsed": true
   },
   "outputs": [],
   "source": []
  }
 ],
 "metadata": {
  "anaconda-cloud": {},
  "kernelspec": {
   "display_name": "Python 3",
   "language": "python",
   "name": "python3"
  },
  "language_info": {
   "codemirror_mode": {
    "name": "ipython",
    "version": 3
   },
   "file_extension": ".py",
   "mimetype": "text/x-python",
   "name": "python",
   "nbconvert_exporter": "python",
   "pygments_lexer": "ipython3",
   "version": "3.5.2"
  }
 },
 "nbformat": 4,
 "nbformat_minor": 1
}
